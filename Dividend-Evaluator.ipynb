{
 "cells": [
  {
   "cell_type": "code",
   "execution_count": 1,
   "id": "d7f42a44-0f1e-4744-bb9c-d72388e72ed2",
   "metadata": {},
   "outputs": [],
   "source": [
    "import pandas as pd\n",
    "from pathlib import Path\n",
    "%matplotlib inline\n",
    "import numpy as np\n",
    "import json \n",
    "import requests"
   ]
  },
  {
   "cell_type": "code",
   "execution_count": 2,
   "id": "8d8405c8-6b0b-4528-8524-b9e689fa927b",
   "metadata": {},
   "outputs": [
    {
     "data": {
      "text/plain": [
       "<Response [200]>"
      ]
     },
     "execution_count": 2,
     "metadata": {},
     "output_type": "execute_result"
    }
   ],
   "source": [
    "api_result = requests.get('http://api.marketstack.com/v1/dividends?access_key=d4dae97b992f9679cb6e46d027601db2&symbols=T,PFE,ABBV,XOM,GILD,INTC,ET,VZ,IBM,JPM,CVX,EPD,MO,UPS,MMM,C,KMI,MRK,BX,LUMN,BP,WBA,O,NRZ,NLY,AMGN,FTR,AGNC,VALE,ENB,RDS.A,KHC,VLO,DOW,PSEC,PM,DUK,DVN,MS,IIPR,RIO,PBR,GSK,SO,OHI,OKE,PRU,SPG,NEM,UTX,BKR,VTV,VYM,IWD,SCHD,RSP,IVE,DGRO,SPLG,SPYV,FVD')\n",
    "                          \n",
    "api_result"
   ]
  },
  {
   "cell_type": "code",
   "execution_count": 3,
   "id": "9f1603ab-0963-4780-9cb8-87f9af8206eb",
   "metadata": {},
   "outputs": [
    {
     "data": {
      "text/plain": [
       "{'pagination': {'limit': 100, 'offset': 0, 'count': 100, 'total': 5905},\n",
       " 'data': [{'date': '2021-11-29', 'dividend': 0.7, 'symbol': 'DOW'},\n",
       "  {'date': '2021-11-12', 'dividend': 0.66, 'symbol': 'SO'},\n",
       "  {'date': '2021-11-04', 'dividend': 0.39, 'symbol': 'PFE'},\n",
       "  {'date': '2021-11-04', 'dividend': 0.3475, 'symbol': 'INTC'},\n",
       "  {'date': '2021-11-01', 'dividend': 0.236, 'symbol': 'O'},\n",
       "  {'date': '2021-10-28', 'dividend': 0.12, 'symbol': 'AGNC'},\n",
       "  {'date': '2021-10-28', 'dividend': 0.45, 'symbol': 'EPD'},\n",
       "  {'date': '2021-10-28', 'dividend': 0.7, 'symbol': 'MS'},\n",
       "  {'date': '2021-10-26', 'dividend': 0.06, 'symbol': 'PSEC'},\n",
       "  {'date': '2021-10-14', 'dividend': 1.3, 'symbol': 'ABBV'},\n",
       "  {'date': '2021-10-07', 'dividend': 0.52, 'symbol': 'T'},\n",
       "  {'date': '2021-10-07', 'dividend': 0.64, 'symbol': 'VZ'},\n",
       "  {'date': '2021-10-05', 'dividend': 1.0, 'symbol': 'JPM'},\n",
       "  {'date': '2021-10-01', 'dividend': 0.25, 'symbol': 'NRZ'},\n",
       "  {'date': '2021-09-30', 'dividend': 0.24, 'symbol': 'O'},\n",
       "  {'date': '2021-09-29', 'dividend': 1.5, 'symbol': 'IIPR'},\n",
       "  {'date': '2021-09-29', 'dividend': 0.12, 'symbol': 'AGNC'},\n",
       "  {'date': '2021-09-29', 'dividend': 0.22, 'symbol': 'NLY'},\n",
       "  {'date': '2021-09-28', 'dividend': 1.25, 'symbol': 'PM'},\n",
       "  {'date': '2021-09-27', 'dividend': 0.06, 'symbol': 'PSEC'},\n",
       "  {'date': '2021-09-24', 'dividend': 0.85, 'symbol': 'IVE'},\n",
       "  {'date': '2021-09-24', 'dividend': 0.25, 'symbol': 'DGRO'},\n",
       "  {'date': '2021-09-24', 'dividend': 0.81, 'symbol': 'IWD'},\n",
       "  {'date': '2021-09-24', 'dividend': 0.81, 'symbol': 'VTV'},\n",
       "  {'date': '2021-09-23', 'dividend': 1.56, 'symbol': 'VALE'},\n",
       "  {'date': '2021-09-23', 'dividend': 0.16, 'symbol': 'FVD'},\n",
       "  {'date': '2021-09-22', 'dividend': 0.59, 'symbol': 'SCHD'},\n",
       "  {'date': '2021-09-20', 'dividend': 0.15, 'symbol': 'SPLG'},\n",
       "  {'date': '2021-09-20', 'dividend': 0.56, 'symbol': 'RSP'},\n",
       "  {'date': '2021-09-20', 'dividend': 0.18, 'symbol': 'SPYV'},\n",
       "  {'date': '2021-09-20', 'dividend': 0.75, 'symbol': 'VYM'},\n",
       "  {'date': '2021-09-14', 'dividend': 0.71, 'symbol': 'GILD'},\n",
       "  {'date': '2021-09-14', 'dividend': 0.65, 'symbol': 'MRK'},\n",
       "  {'date': '2021-09-14', 'dividend': 0.9, 'symbol': 'MO'},\n",
       "  {'date': '2021-09-10', 'dividend': 0.49, 'symbol': 'DVN'},\n",
       "  {'date': '2021-09-08', 'dividend': 0.55, 'symbol': 'NEM'},\n",
       "  {'date': '2021-09-08', 'dividend': 1.5, 'symbol': 'SPG'},\n",
       "  {'date': '2021-08-31', 'dividend': 0.24, 'symbol': 'O'},\n",
       "  {'date': '2021-08-31', 'dividend': 0.4, 'symbol': 'KHC'},\n",
       "  {'date': '2021-08-30', 'dividend': 0.7, 'symbol': 'DOW'},\n",
       "  {'date': '2021-08-30', 'dividend': 0.12, 'symbol': 'AGNC'},\n",
       "  {'date': '2021-08-27', 'dividend': 0.25, 'symbol': 'LUMN'},\n",
       "  {'date': '2021-08-26', 'dividend': 0.06, 'symbol': 'PSEC'},\n",
       "  {'date': '2021-08-23', 'dividend': 1.15, 'symbol': 'PRU'},\n",
       "  {'date': '2021-08-20', 'dividend': 1.02, 'symbol': 'UPS'},\n",
       "  {'date': '2021-08-20', 'dividend': 1.48, 'symbol': 'MMM'},\n",
       "  {'date': '2021-08-19', 'dividend': 0.53, 'symbol': 'GSK'},\n",
       "  {'date': '2021-08-19', 'dividend': 0.48, 'symbol': 'WBA'},\n",
       "  {'date': '2021-08-18', 'dividend': 1.34, 'symbol': 'CVX'},\n",
       "  {'date': '2021-08-17', 'dividend': 0.62, 'symbol': 'PBR'},\n",
       "  {'date': '2021-08-16', 'dividend': 1.76, 'symbol': 'AMGN'},\n",
       "  {'date': '2021-08-13', 'dividend': 0.66, 'symbol': 'SO'},\n",
       "  {'date': '2021-08-12', 'dividend': 0.33, 'symbol': 'BP'},\n",
       "  {'date': '2021-08-12', 'dividend': 3.76, 'symbol': 'RIO'},\n",
       "  {'date': '2021-08-12', 'dividend': 0.87, 'symbol': 'XOM'},\n",
       "  {'date': '2021-08-12', 'dividend': 0.67, 'symbol': 'ENB'},\n",
       "  {'date': '2021-08-12', 'dividend': 0.99, 'symbol': 'DUK'},\n",
       "  {'date': '2021-08-09', 'dividend': 1.64, 'symbol': 'IBM'},\n",
       "  {'date': '2021-08-09', 'dividend': 0.18, 'symbol': 'BKR'},\n",
       "  {'date': '2021-08-05', 'dividend': 0.15, 'symbol': 'ET'},\n",
       "  {'date': '2021-08-05', 'dividend': 0.35, 'symbol': 'INTC'},\n",
       "  {'date': '2021-08-04', 'dividend': 0.98, 'symbol': 'VLO'},\n",
       "  {'date': '2021-07-30', 'dividend': 0.27, 'symbol': 'KMI'},\n",
       "  {'date': '2021-07-30', 'dividend': 0.24, 'symbol': 'O'},\n",
       "  {'date': '2021-07-30', 'dividend': 0.67, 'symbol': 'OHI'},\n",
       "  {'date': '2021-07-30', 'dividend': 0.94, 'symbol': 'OKE'},\n",
       "  {'date': '2021-07-30', 'dividend': 0.51, 'symbol': 'C'},\n",
       "  {'date': '2021-07-30', 'dividend': 0.7, 'symbol': 'BX'},\n",
       "  {'date': '2021-07-29', 'dividend': 0.39, 'symbol': 'PFE'},\n",
       "  {'date': '2021-07-29', 'dividend': 0.45, 'symbol': 'EPD'},\n",
       "  {'date': '2021-07-29', 'dividend': 0.7, 'symbol': 'MS'},\n",
       "  {'date': '2021-07-29', 'dividend': 0.12, 'symbol': 'AGNC'},\n",
       "  {'date': '2021-07-27', 'dividend': 0.06, 'symbol': 'PSEC'},\n",
       "  {'date': '2021-07-14', 'dividend': 1.3, 'symbol': 'ABBV'},\n",
       "  {'date': '2021-07-08', 'dividend': 0.63, 'symbol': 'VZ'},\n",
       "  {'date': '2021-07-08', 'dividend': 0.52, 'symbol': 'T'},\n",
       "  {'date': '2021-07-02', 'dividend': 0.9, 'symbol': 'JPM'},\n",
       "  {'date': '2021-07-01', 'dividend': 0.2, 'symbol': 'NRZ'},\n",
       "  {'date': '2021-07-01', 'dividend': 1.4, 'symbol': 'SPG'},\n",
       "  {'date': '2021-06-30', 'dividend': 0.24, 'symbol': 'O'},\n",
       "  {'date': '2021-06-29', 'dividend': 0.12, 'symbol': 'AGNC'},\n",
       "  {'date': '2021-06-29', 'dividend': 0.22, 'symbol': 'NLY'},\n",
       "  {'date': '2021-06-29', 'dividend': 1.4, 'symbol': 'IIPR'},\n",
       "  {'date': '2021-06-25', 'dividend': 0.06, 'symbol': 'PSEC'},\n",
       "  {'date': '2021-06-24', 'dividend': 0.74, 'symbol': 'VTV'},\n",
       "  {'date': '2021-06-24', 'dividend': 1.2, 'symbol': 'PM'},\n",
       "  {'date': '2021-06-24', 'dividend': 0.19, 'symbol': 'FVD'},\n",
       "  {'date': '2021-06-24', 'dividend': 0.44, 'symbol': 'VALE'},\n",
       "  {'date': '2021-06-23', 'dividend': 0.54, 'symbol': 'SCHD'},\n",
       "  {'date': '2021-06-21', 'dividend': 0.2, 'symbol': 'SPYV'},\n",
       "  {'date': '2021-06-21', 'dividend': 0.75, 'symbol': 'VYM'},\n",
       "  {'date': '2021-06-21', 'dividend': 0.17, 'symbol': 'SPLG'},\n",
       "  {'date': '2021-06-21', 'dividend': 0.42, 'symbol': 'RSP'},\n",
       "  {'date': '2021-06-14', 'dividend': 0.86, 'symbol': 'MO'},\n",
       "  {'date': '2021-06-14', 'dividend': 0.71, 'symbol': 'GILD'},\n",
       "  {'date': '2021-06-14', 'dividend': 0.65, 'symbol': 'MRK'},\n",
       "  {'date': '2021-06-11', 'dividend': 0.34, 'symbol': 'DVN'},\n",
       "  {'date': '2021-06-10', 'dividend': 0.53, 'symbol': 'IVE'},\n",
       "  {'date': '2021-06-10', 'dividend': 0.58, 'symbol': 'IWD'},\n",
       "  {'date': '2021-06-10', 'dividend': 0.26, 'symbol': 'DGRO'}]}"
      ]
     },
     "execution_count": 3,
     "metadata": {},
     "output_type": "execute_result"
    }
   ],
   "source": [
    "api_response = api_result.json()\n",
    "api_response"
   ]
  },
  {
   "cell_type": "code",
   "execution_count": null,
   "id": "25dac2a9-6798-4e11-a891-7ae4ee563793",
   "metadata": {},
   "outputs": [],
   "source": []
  }
 ],
 "metadata": {
  "kernelspec": {
   "display_name": "Python 3 (ipykernel)",
   "language": "python",
   "name": "python3"
  },
  "language_info": {
   "codemirror_mode": {
    "name": "ipython",
    "version": 3
   },
   "file_extension": ".py",
   "mimetype": "text/x-python",
   "name": "python",
   "nbconvert_exporter": "python",
   "pygments_lexer": "ipython3",
   "version": "3.7.11"
  }
 },
 "nbformat": 4,
 "nbformat_minor": 5
}
